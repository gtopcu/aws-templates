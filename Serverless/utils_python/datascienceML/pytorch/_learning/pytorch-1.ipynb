{
 "cells": [
  {
   "cell_type": "code",
   "execution_count": 2,
   "id": "05556a20-4531-43c5-8a99-8733c6d868f5",
   "metadata": {},
   "outputs": [],
   "source": [
    "# https://pytorch.org/tutorials/beginner/introyt/introyt1_tutorial.html \n",
    "# https://pytorch.org/get-started/locally/\n",
    "\n",
    "import torch\n",
    "# x = torch.rand(5, 3)\n",
    "# print(x)"
   ]
  },
  {
   "cell_type": "code",
   "execution_count": 4,
   "id": "31066b0b-bd5b-46b8-a80e-fd3929f61efb",
   "metadata": {},
   "outputs": [
    {
     "data": {
      "text/plain": [
       "tensor([[0., 0., 0.],\n",
       "        [0., 0., 0.],\n",
       "        [0., 0., 0.],\n",
       "        [0., 0., 0.],\n",
       "        [0., 0., 0.]])"
      ]
     },
     "execution_count": 4,
     "metadata": {},
     "output_type": "execute_result"
    }
   ],
   "source": [
    "z = torch.zeros(5, 3)\n",
    "z"
   ]
  },
  {
   "cell_type": "code",
   "execution_count": 5,
   "id": "dc2863d3-7396-47a3-8e26-19e96421e7e2",
   "metadata": {},
   "outputs": [
    {
     "data": {
      "text/plain": [
       "torch.float32"
      ]
     },
     "execution_count": 5,
     "metadata": {},
     "output_type": "execute_result"
    }
   ],
   "source": [
    "z.dtype"
   ]
  },
  {
   "cell_type": "code",
   "execution_count": 10,
   "id": "1b4db4ab-d971-4a3c-bc79-7cfdf62ca2ea",
   "metadata": {},
   "outputs": [
    {
     "data": {
      "text/plain": [
       "tensor([[1, 1, 1],\n",
       "        [1, 1, 1],\n",
       "        [1, 1, 1],\n",
       "        [1, 1, 1],\n",
       "        [1, 1, 1]], dtype=torch.int16)"
      ]
     },
     "execution_count": 10,
     "metadata": {},
     "output_type": "execute_result"
    }
   ],
   "source": [
    "i = torch.ones((5, 3), dtype=torch.int16)\n",
    "i"
   ]
  },
  {
   "cell_type": "code",
   "execution_count": 11,
   "id": "c015707f-ccb3-4ea3-8ce7-f2d3d12b70ba",
   "metadata": {},
   "outputs": [
    {
     "data": {
      "text/plain": [
       "tensor([[0.3126, 0.3791],\n",
       "        [0.3087, 0.0736]])"
      ]
     },
     "execution_count": 11,
     "metadata": {},
     "output_type": "execute_result"
    }
   ],
   "source": [
    "torch.manual_seed(1729)\n",
    "r1 = torch.rand(2, 2)\n",
    "r1"
   ]
  },
  {
   "cell_type": "code",
   "execution_count": 12,
   "id": "5610b267-b2a2-45bc-93a2-7dd5223c027e",
   "metadata": {},
   "outputs": [
    {
     "data": {
      "text/plain": [
       "tensor([[0.4216, 0.0691],\n",
       "        [0.2332, 0.4047]])"
      ]
     },
     "execution_count": 12,
     "metadata": {},
     "output_type": "execute_result"
    }
   ],
   "source": [
    "r2 = torch.rand(2, 2)\n",
    "r2"
   ]
  },
  {
   "cell_type": "code",
   "execution_count": 13,
   "id": "478414b2-b547-4138-b4a4-a5d450827fe2",
   "metadata": {},
   "outputs": [
    {
     "data": {
      "text/plain": [
       "tensor([[0.3126, 0.3791],\n",
       "        [0.3087, 0.0736]])"
      ]
     },
     "execution_count": 13,
     "metadata": {},
     "output_type": "execute_result"
    }
   ],
   "source": [
    "torch.manual_seed(1729) \n",
    "r3 = torch.rand(2, 2) # same as r1 as same seed\n",
    "r3"
   ]
  },
  {
   "cell_type": "code",
   "execution_count": 14,
   "id": "94089593-5083-419c-81ef-f217e055b537",
   "metadata": {},
   "outputs": [
    {
     "data": {
      "text/plain": [
       "tensor([[1., 1., 1.],\n",
       "        [1., 1., 1.]])"
      ]
     },
     "execution_count": 14,
     "metadata": {},
     "output_type": "execute_result"
    }
   ],
   "source": [
    "ones = torch.ones(2, 3)\n",
    "ones"
   ]
  },
  {
   "cell_type": "code",
   "execution_count": 15,
   "id": "4051c8bf-0678-4fe6-ae90-8aff371833cb",
   "metadata": {},
   "outputs": [
    {
     "data": {
      "text/plain": [
       "tensor([[2., 2., 2.],\n",
       "        [2., 2., 2.]])"
      ]
     },
     "execution_count": 15,
     "metadata": {},
     "output_type": "execute_result"
    }
   ],
   "source": [
    "twos = torch.ones(2, 3) * 2\n",
    "twos"
   ]
  },
  {
   "cell_type": "code",
   "execution_count": 16,
   "id": "e5cb44eb-482b-46f2-9ed5-ac08811ecc79",
   "metadata": {},
   "outputs": [
    {
     "data": {
      "text/plain": [
       "tensor([[3., 3., 3.],\n",
       "        [3., 3., 3.]])"
      ]
     },
     "execution_count": 16,
     "metadata": {},
     "output_type": "execute_result"
    }
   ],
   "source": [
    "threes = ones + twos\n",
    "threes"
   ]
  },
  {
   "cell_type": "code",
   "execution_count": 17,
   "id": "d959f16a-6349-4b02-865f-217e81d34835",
   "metadata": {},
   "outputs": [
    {
     "data": {
      "text/plain": [
       "torch.Size([2, 3])"
      ]
     },
     "execution_count": 17,
     "metadata": {},
     "output_type": "execute_result"
    }
   ],
   "source": [
    "threes.shape"
   ]
  },
  {
   "cell_type": "code",
   "execution_count": 49,
   "id": "726c1856-5dbc-4c8e-9499-2caa1a7eadee",
   "metadata": {},
   "outputs": [
    {
     "data": {
      "text/plain": [
       "tensor([[-0.2699, -0.3724],\n",
       "        [-0.2643, -0.9619]])"
      ]
     },
     "execution_count": 49,
     "metadata": {},
     "output_type": "execute_result"
    }
   ],
   "source": [
    "r = torch.rand(2, 2) - 0.5 * 2 # numbers between -1 and 1\n",
    "r"
   ]
  },
  {
   "cell_type": "code",
   "execution_count": 50,
   "id": "4c805e40-0068-4253-95f3-31f9afa7bbe2",
   "metadata": {},
   "outputs": [
    {
     "data": {
      "text/plain": [
       "tensor([[0.2699, 0.3724],\n",
       "        [0.2643, 0.9619]])"
      ]
     },
     "execution_count": 50,
     "metadata": {},
     "output_type": "execute_result"
    }
   ],
   "source": [
    "torch.abs(r)"
   ]
  },
  {
   "cell_type": "code",
   "execution_count": 51,
   "id": "21d27f6f-c2d4-4ac2-a0ea-c97609dbb60a",
   "metadata": {},
   "outputs": [
    {
     "data": {
      "text/plain": [
       "tensor([[-0.2733, -0.3816],\n",
       "        [-0.2674, -1.2939]])"
      ]
     },
     "execution_count": 51,
     "metadata": {},
     "output_type": "execute_result"
    }
   ],
   "source": [
    "torch.asin(r)"
   ]
  },
  {
   "cell_type": "code",
   "execution_count": 52,
   "id": "297c302d-cc38-4568-8edd-a703b7e08297",
   "metadata": {},
   "outputs": [
    {
     "data": {
      "text/plain": [
       "tensor(0.1612)"
      ]
     },
     "execution_count": 52,
     "metadata": {},
     "output_type": "execute_result"
    }
   ],
   "source": [
    "torch.det(r)"
   ]
  },
  {
   "cell_type": "code",
   "execution_count": 53,
   "id": "da13da07-90a5-48b6-b73a-51b483784ec8",
   "metadata": {},
   "outputs": [
    {
     "data": {
      "text/plain": [
       "torch.return_types.svd(\n",
       "U=tensor([[ 0.4038,  0.9148],\n",
       "        [ 0.9148, -0.4038]]),\n",
       "S=tensor([1.0884, 0.1481]),\n",
       "V=tensor([[-0.3222, -0.9467],\n",
       "        [-0.9467,  0.3222]]))"
      ]
     },
     "execution_count": 53,
     "metadata": {},
     "output_type": "execute_result"
    }
   ],
   "source": [
    "torch.svd(r)"
   ]
  },
  {
   "cell_type": "code",
   "execution_count": 54,
   "id": "1db92a24-3d5b-4248-84c8-abd2299acf0b",
   "metadata": {},
   "outputs": [
    {
     "data": {
      "text/plain": [
       "(tensor(0.3336), tensor(-0.4671))"
      ]
     },
     "execution_count": 54,
     "metadata": {},
     "output_type": "execute_result"
    }
   ],
   "source": [
    "torch.std_mean(r)"
   ]
  },
  {
   "cell_type": "code",
   "execution_count": 55,
   "id": "5ae5bb4b-ea05-4e23-b190-f77d6615a51b",
   "metadata": {},
   "outputs": [
    {
     "data": {
      "text/plain": [
       "tensor(-0.2643)"
      ]
     },
     "execution_count": 55,
     "metadata": {},
     "output_type": "execute_result"
    }
   ],
   "source": [
    "torch.max(r)"
   ]
  },
  {
   "cell_type": "code",
   "execution_count": null,
   "id": "303040c6-8c3b-4d12-a9e7-24baf32e2fe3",
   "metadata": {},
   "outputs": [],
   "source": [
    "# Autograd\n",
    "x = torch.randn(1, 10)\n",
    "prev_h = torch.rand(1, 20)\n",
    "W_h = torch.rand(20, 20)\n",
    "W_x = torch.rand(20, 10)\n",
    "\n",
    "i2h = torch.mm(W_x, x.t())\n",
    "h2h = torch.mm(W_h, prev_h.t())\n",
    "next_h = i2h + h2h\n",
    "next_h = next_h.tanh()\n",
    "\n",
    "loss = next_h.sum()\n",
    "loss.backward()"
   ]
  }
 ],
 "metadata": {
  "kernelspec": {
   "display_name": "Python 3 (ipykernel)",
   "language": "python",
   "name": "python3"
  },
  "language_info": {
   "codemirror_mode": {
    "name": "ipython",
    "version": 3
   },
   "file_extension": ".py",
   "mimetype": "text/x-python",
   "name": "python",
   "nbconvert_exporter": "python",
   "pygments_lexer": "ipython3",
   "version": "3.11.5"
  }
 },
 "nbformat": 4,
 "nbformat_minor": 5
}
