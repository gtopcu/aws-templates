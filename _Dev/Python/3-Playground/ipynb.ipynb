{
 "cells": [
  {
   "cell_type": "code",
   "execution_count": 35,
   "metadata": {},
   "outputs": [
    {
     "name": "stdout",
     "output_type": "stream",
     "text": [
      "['1', '2', '3']\n",
      "['3', '2', '1']\n",
      "['1', '2', '3']\n",
      "['1', '2', '3', '1', '2', '3']\n"
     ]
    }
   ],
   "source": [
    "myTuple = (\"1\", \"2\", \"3\")\n",
    "myList = [\"1\", \"2\", \"3\"]\n",
    "myDict = {\"1\": \"Gokhan\", \"2\": \"Goknur\"}\n",
    "myDict2 = { \"0\":myDict, 1: myList, \"2\": myTuple, myTuple:\"3\" }\n",
    "\n",
    "print(myList[0:3])\n",
    "print(myList[::-1])\n",
    "myList2 = myList.copy()\n",
    "print(myList2)\n",
    "myList3 = myList.extend(myList2)\n",
    "print(myList)\n",
    "myList4 = myList.zip(myList2)\n",
    "\n",
    "\n"
   ]
  },
  {
   "cell_type": "code",
   "execution_count": null,
   "metadata": {},
   "outputs": [],
   "source": [
    "def callMe(*vars, **kwargs):\n",
    "    for var in vars: \n",
    "        print(\"var:\" + var)\n",
    "callMe(\"1\")"
   ]
  },
  {
   "cell_type": "code",
   "execution_count": null,
   "metadata": {},
   "outputs": [],
   "source": [
    "\n",
    "myStr = \"hellooo\"\n",
    "\n",
    "\n"
   ]
  }
 ],
 "metadata": {
  "kernelspec": {
   "display_name": "Python 3.10.0 64-bit",
   "language": "python",
   "name": "python3"
  },
  "language_info": {
   "codemirror_mode": {
    "name": "ipython",
    "version": 3
   },
   "file_extension": ".py",
   "mimetype": "text/x-python",
   "name": "python",
   "nbconvert_exporter": "python",
   "pygments_lexer": "ipython3",
   "version": "3.10.0"
  },
  "orig_nbformat": 4,
  "vscode": {
   "interpreter": {
    "hash": "aee8b7b246df8f9039afb4144a1f6fd8d2ca17a180786b69acc140d282b71a49"
   }
  }
 },
 "nbformat": 4,
 "nbformat_minor": 2
}
