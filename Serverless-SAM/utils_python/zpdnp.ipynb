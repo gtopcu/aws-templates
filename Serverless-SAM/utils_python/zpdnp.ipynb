{
 "cells": [
  {
   "cell_type": "code",
   "execution_count": 18,
   "metadata": {},
   "outputs": [
    {
     "name": "stdout",
     "output_type": "stream",
     "text": [
      "0    1.092399\n",
      "1   -1.255001\n",
      "2    1.267418\n",
      "3   -0.480434\n",
      "Name: PD Series', dtype: float64\n",
      "0    1.092399\n",
      "1    1.255001\n",
      "2    1.267418\n",
      "3    0.480434\n",
      "Name: PD Series', dtype: float64\n",
      "0    109.239918\n",
      "1   -125.500053\n",
      "2    126.741822\n",
      "3    -48.043383\n",
      "Name: PD Series', dtype: float64\n"
     ]
    }
   ],
   "source": [
    "# https://www.youtube.com/watch?v=iGFdh6_FePU\n",
    "\n",
    "import pandas as pd\n",
    "import numpy as np\n",
    "from scipy import stats\n",
    "\n",
    "# print(np.array([0, 6]).mean())\n",
    "# speed = [99,86,87,88,111,86,103,87,94,78,77,85,86]\n",
    "# print(np.mean(speed))\n",
    "# print(np.median(speed))\n",
    "# print(stats.mode(speed))\n",
    "\n",
    "\n",
    "series = pd.Series(np.random.randn(4), name=\"PD Series'\")\n",
    "print(series)\n",
    "print(np.abs(series))\n",
    "print(series * 100)\n"
   ]
  }
 ],
 "metadata": {
  "kernelspec": {
   "display_name": "Python 3",
   "language": "python",
   "name": "python3"
  },
  "language_info": {
   "codemirror_mode": {
    "name": "ipython",
    "version": 3
   },
   "file_extension": ".py",
   "mimetype": "text/x-python",
   "name": "python",
   "nbconvert_exporter": "python",
   "pygments_lexer": "ipython3",
   "version": "3.11.5"
  },
  "orig_nbformat": 4
 },
 "nbformat": 4,
 "nbformat_minor": 2
}
